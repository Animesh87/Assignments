{
 "cells": [
  {
   "cell_type": "markdown",
   "metadata": {},
   "source": [
    "### Programming Assignment - 5"
   ]
  },
  {
   "cell_type": "markdown",
   "metadata": {},
   "source": [
    "Q1. Write a Python Program to Find LCM?"
   ]
  },
  {
   "cell_type": "code",
   "execution_count": 14,
   "metadata": {},
   "outputs": [
    {
     "name": "stdout",
     "output_type": "stream",
     "text": [
      "Enter two numbers : 12 15\n",
      "LCM of the number is :  60\n"
     ]
    }
   ],
   "source": [
    "num1,num2 = input(\"Enter two numbers : \").split()\n",
    "num1 = int(num1)\n",
    "num2 = int(num2)\n",
    "mult = 1\n",
    "for i in range(1,num1+1):\n",
    "    if(num1 % i == 0 and num2 % i == 0):\n",
    "        mult = mult * i\n",
    "        num1 = num1 / i\n",
    "        num2 = num2 / i\n",
    "print(\"LCM of the number is : \",int(mult*num1*num2))"
   ]
  },
  {
   "cell_type": "markdown",
   "metadata": {},
   "source": [
    "Q2. Write a Python Program to Find HCF?"
   ]
  },
  {
   "cell_type": "code",
   "execution_count": 15,
   "metadata": {},
   "outputs": [
    {
     "name": "stdout",
     "output_type": "stream",
     "text": [
      "Enter two numbers : 12 15\n",
      "3\n"
     ]
    }
   ],
   "source": [
    "num1,num2 = input(\"Enter two numbers : \").split()\n",
    "num1 = int(num1)\n",
    "num2 = int(num2)\n",
    "hcf = 1\n",
    "for i in range(1,num1+1):\n",
    "    if(num1 % i == 0 and num2 % i == 0):\n",
    "        hcf = hcf * i\n",
    "        num1 = num1 / i\n",
    "        num2 = num2 / i\n",
    "print(hcf)"
   ]
  },
  {
   "cell_type": "markdown",
   "metadata": {},
   "source": [
    "Q3. Write a Python Program to Convert Decimal to Binary, Octal and Hexadecimal?"
   ]
  },
  {
   "cell_type": "code",
   "execution_count": 17,
   "metadata": {},
   "outputs": [
    {
     "name": "stdout",
     "output_type": "stream",
     "text": [
      "Enter the number in Decimal : 12\n",
      "Binary value is :  1100\n",
      "Octal value is :  14\n",
      "Hexadecimal is :  c\n"
     ]
    }
   ],
   "source": [
    "num = int(input(\"Enter the number in Decimal : \"))\n",
    "binary = bin(num)\n",
    "octal = oct(num)\n",
    "hexa = hex(num)\n",
    "print(\"Binary value is : \",binary[2:])\n",
    "print(\"Octal value is : \",octal[2:])\n",
    "print(\"Hexadecimal is : \",hexa[2:])"
   ]
  },
  {
   "cell_type": "markdown",
   "metadata": {},
   "source": [
    "Q4. Write a Python Program To Find ASCII value of a character?"
   ]
  },
  {
   "cell_type": "code",
   "execution_count": 23,
   "metadata": {},
   "outputs": [
    {
     "name": "stdout",
     "output_type": "stream",
     "text": [
      "Enter a character : f\n",
      "ASCII value of f is : 102\n"
     ]
    }
   ],
   "source": [
    "char = input(\"Enter a character : \")\n",
    "print(\"ASCII value of {} is : {}\".format(char,ord(char)))"
   ]
  },
  {
   "cell_type": "markdown",
   "metadata": {},
   "source": [
    "Q5. Write a Python Program to Make a Simple Calculator with 4 basic mathematical operations?"
   ]
  },
  {
   "cell_type": "code",
   "execution_count": 26,
   "metadata": {},
   "outputs": [
    {
     "name": "stdout",
     "output_type": "stream",
     "text": [
      "Enter the first number : 2\n",
      "Enter the second number : 4\n",
      "Enter the operator : +\n",
      "6\n"
     ]
    }
   ],
   "source": [
    "def calculator(num1,num2,op):\n",
    "    if op == \"+\":\n",
    "        return num1+num2\n",
    "    elif op == \"-\":\n",
    "        return num1-num2\n",
    "    elif op == \"*\":\n",
    "        return num1*num2\n",
    "    else:\n",
    "        return num1/num2\n",
    "\n",
    "if __name__ == \"__main__\":\n",
    "    num1 = int(input(\"Enter the first number : \"))\n",
    "    num2 = int(input(\"Enter the second number : \"))\n",
    "    op = input(\"Enter the operator : \")\n",
    "    print(calculator(num1,num2,op))\n",
    "        "
   ]
  },
  {
   "cell_type": "code",
   "execution_count": null,
   "metadata": {},
   "outputs": [],
   "source": []
  }
 ],
 "metadata": {
  "kernelspec": {
   "display_name": "Python 3",
   "language": "python",
   "name": "python3"
  },
  "language_info": {
   "codemirror_mode": {
    "name": "ipython",
    "version": 3
   },
   "file_extension": ".py",
   "mimetype": "text/x-python",
   "name": "python",
   "nbconvert_exporter": "python",
   "pygments_lexer": "ipython3",
   "version": "3.8.2"
  }
 },
 "nbformat": 4,
 "nbformat_minor": 4
}
