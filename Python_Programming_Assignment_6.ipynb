{
 "cells": [
  {
   "cell_type": "markdown",
   "metadata": {},
   "source": [
    "### Programming Assignment - 6"
   ]
  },
  {
   "cell_type": "markdown",
   "metadata": {},
   "source": [
    "Q1. Write a Python Program to Display Fibonacci Sequence Using Recursion?"
   ]
  },
  {
   "cell_type": "code",
   "execution_count": 14,
   "metadata": {},
   "outputs": [
    {
     "name": "stdout",
     "output_type": "stream",
     "text": [
      "Enter no. of sequence : 5\n",
      "Fibonacci seqenece after 5 occurence : 8\n"
     ]
    }
   ],
   "source": [
    "def fibonacci(n):\n",
    "    if(n<=1):\n",
    "        return 1\n",
    "    else:\n",
    "        return fibonacci(n-1) + fibonacci(n-2)\n",
    "if __name__ == \"__main__\":\n",
    "    n = int(input(\"Enter no. of sequence : \"))\n",
    "    print(\"Fibonacci seqenece after {} occurence : {}\".format(n,fibonacci(n)))"
   ]
  },
  {
   "cell_type": "markdown",
   "metadata": {},
   "source": [
    "Q2. Write a Python Program to Find Factorial of Number Using Recursion?"
   ]
  },
  {
   "cell_type": "code",
   "execution_count": 16,
   "metadata": {},
   "outputs": [
    {
     "name": "stdout",
     "output_type": "stream",
     "text": [
      "Enter the number : 5\n",
      "Factorial of 5 is : 120\n"
     ]
    }
   ],
   "source": [
    "def fact(n):\n",
    "    if(n == 0 or n == 1):\n",
    "        return 1\n",
    "    else:\n",
    "        return n*fact(n-1)\n",
    "if __name__ == \"__main__\":\n",
    "    n = int(input(\"Enter the number : \"))\n",
    "    print(\"Factorial of {} is : {}\".format(n,fact(n)))"
   ]
  },
  {
   "cell_type": "markdown",
   "metadata": {},
   "source": [
    "Q3. Write a Python Program to calculate your Body Mass Index?"
   ]
  },
  {
   "cell_type": "code",
   "execution_count": 19,
   "metadata": {},
   "outputs": [
    {
     "name": "stdout",
     "output_type": "stream",
     "text": [
      "Enter Weight in kg : 72.57\n",
      "Enter height in cm : 178\n",
      "BMI is :  22.904305011993433\n"
     ]
    }
   ],
   "source": [
    "def BMI(w,h):\n",
    "    return w/(h*h)\n",
    "if __name__ == \"__main__\":\n",
    "    w = float(input(\"Enter Weight in kg : \"))\n",
    "    h = float(input(\"Enter height in cm : \"))\n",
    "    h = h/100\n",
    "    print(\"BMI is : \",BMI(w,h))"
   ]
  },
  {
   "cell_type": "markdown",
   "metadata": {},
   "source": [
    "Q4. Write a Python Program to calculate the natural logarithm of any number?"
   ]
  },
  {
   "cell_type": "code",
   "execution_count": 20,
   "metadata": {},
   "outputs": [
    {
     "name": "stdout",
     "output_type": "stream",
     "text": [
      "Enter the number : 2\n",
      "Logarithm of 2 is : 0.6931471805599453\n"
     ]
    }
   ],
   "source": [
    "import math\n",
    "n = int(input(\"Enter the number : \"))\n",
    "print(\"Logarithm of {} is : {}\".format(n,math.log(n)))"
   ]
  },
  {
   "cell_type": "markdown",
   "metadata": {},
   "source": [
    "Q5. Write a Python Program for cube sum of first n natural numbers?"
   ]
  },
  {
   "cell_type": "code",
   "execution_count": 26,
   "metadata": {},
   "outputs": [
    {
     "name": "stdout",
     "output_type": "stream",
     "text": [
      "Enter the number of natural numbers : 12\n",
      "6084\n"
     ]
    }
   ],
   "source": [
    "n = int(input(\"Enter the number of natural numbers : \"))\n",
    "cube_sum = pow((n*(n+1)/2),2)\n",
    "print(int(cube_sum))"
   ]
  },
  {
   "cell_type": "code",
   "execution_count": null,
   "metadata": {},
   "outputs": [],
   "source": []
  }
 ],
 "metadata": {
  "kernelspec": {
   "display_name": "Python 3",
   "language": "python",
   "name": "python3"
  },
  "language_info": {
   "codemirror_mode": {
    "name": "ipython",
    "version": 3
   },
   "file_extension": ".py",
   "mimetype": "text/x-python",
   "name": "python",
   "nbconvert_exporter": "python",
   "pygments_lexer": "ipython3",
   "version": "3.8.2"
  }
 },
 "nbformat": 4,
 "nbformat_minor": 4
}
