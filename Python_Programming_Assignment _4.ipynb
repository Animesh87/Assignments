{
 "cells": [
  {
   "cell_type": "markdown",
   "metadata": {},
   "source": [
    "### Programming Assignment - 4"
   ]
  },
  {
   "cell_type": "markdown",
   "metadata": {},
   "source": [
    "Q1. Write a Python Program to Find the Factorial of a Number?"
   ]
  },
  {
   "cell_type": "code",
   "execution_count": 7,
   "metadata": {},
   "outputs": [
    {
     "name": "stdout",
     "output_type": "stream",
     "text": [
      "Enter the number : 6\n",
      "The factorial of the number is :  720\n"
     ]
    }
   ],
   "source": [
    "num = int(input(\"Enter the number : \"))\n",
    "fact = 1\n",
    "if num == 0 or num == 1:\n",
    "    fact = 1\n",
    "else:\n",
    "    while num != 1:\n",
    "        fact = fact * num\n",
    "        num = num - 1\n",
    "print(\"The factorial of the number is : \",fact)"
   ]
  },
  {
   "cell_type": "markdown",
   "metadata": {},
   "source": [
    "Q2. Write a Python Program to Display the multiplication Table?"
   ]
  },
  {
   "cell_type": "code",
   "execution_count": 9,
   "metadata": {},
   "outputs": [
    {
     "name": "stdout",
     "output_type": "stream",
     "text": [
      "Enter the number : 2\n",
      "-------Multiplication Table----------\n",
      "2 * 1 = 2\n",
      "2 * 2 = 4\n",
      "2 * 3 = 6\n",
      "2 * 4 = 8\n",
      "2 * 5 = 10\n",
      "2 * 6 = 12\n",
      "2 * 7 = 14\n",
      "2 * 8 = 16\n",
      "2 * 9 = 18\n",
      "2 * 10 = 20\n"
     ]
    }
   ],
   "source": [
    "num = int(input(\"Enter the number : \"))\n",
    "print(\"-------Multiplication Table----------\")\n",
    "for i in range(1,11):\n",
    "    print(\"{} * {} = {}\".format(num,i,num*i))"
   ]
  },
  {
   "cell_type": "markdown",
   "metadata": {},
   "source": [
    "Q3. Write a Python Program to Print the Fibonacci sequence?"
   ]
  },
  {
   "cell_type": "code",
   "execution_count": 19,
   "metadata": {},
   "outputs": [
    {
     "name": "stdout",
     "output_type": "stream",
     "text": [
      "Enter the number of element of Fibonacci seqence : 10\n",
      "0 , 1 , 1 , 2 , 3 , 5 , 8 , 13 , 21 , 34\n"
     ]
    }
   ],
   "source": [
    "no_Of_Ele = int(input(\"Enter the number of element of Fibonacci seqence : \"))\n",
    "num1 = 0\n",
    "num2 = 1\n",
    "if(no_Of_Ele <= 2):\n",
    "    print(num1,end=\" , \")\n",
    "    print(num2,end=\" , \")\n",
    "else:\n",
    "    print(num1,end=\" , \")\n",
    "    print(num2,end=\" , \")\n",
    "    for i in range(3,no_Of_Ele+1):\n",
    "        num3 = num1 + num2\n",
    "        num1 = num2\n",
    "        num2 = num3\n",
    "        if i == no_Of_Ele:\n",
    "            print(num3)\n",
    "        else:\n",
    "            print(num3,end=\" , \")"
   ]
  },
  {
   "cell_type": "markdown",
   "metadata": {},
   "source": [
    "Q4. Write a Python Program to Check Armstrong Number?"
   ]
  },
  {
   "cell_type": "code",
   "execution_count": 37,
   "metadata": {},
   "outputs": [
    {
     "name": "stdout",
     "output_type": "stream",
     "text": [
      "Enter the number : 371\n",
      "Number is Armstrong!\n"
     ]
    }
   ],
   "source": [
    "import math\n",
    "num = int(input(\"Enter the number : \"))\n",
    "n = num\n",
    "arm = 0\n",
    "count = len(str(num))\n",
    "while n != 0:\n",
    "    r = int(n % 10)\n",
    "    n = int(n / 10)\n",
    "    arm = arm + int(pow(r,count))\n",
    "if(arm == num):\n",
    "    print(\"Number is Armstrong!\")\n",
    "else:\n",
    "    print(\"Number is not Armstrong!\")"
   ]
  },
  {
   "cell_type": "markdown",
   "metadata": {},
   "source": [
    "Q5. Write a Python Program to Find Armstrong Number in an Interval?"
   ]
  },
  {
   "cell_type": "code",
   "execution_count": 39,
   "metadata": {},
   "outputs": [
    {
     "name": "stdout",
     "output_type": "stream",
     "text": [
      "Enter the start of interval : 0\n",
      "Enter the end of interval : 1000\n",
      "0\n",
      "1\n",
      "153\n",
      "370\n",
      "371\n",
      "407\n"
     ]
    }
   ],
   "source": [
    "start = int(input(\"Enter the start of interval : \"))\n",
    "end = int(input(\"Enter the end of interval : \"))\n",
    "for i in range(start,end):\n",
    "    n = i\n",
    "    arm = 0\n",
    "    count = len(str(num))\n",
    "    while n != 0:\n",
    "        r = int(n % 10)\n",
    "        n = int(n / 10)\n",
    "        arm = arm + int(pow(r,count))\n",
    "    if(arm == i):\n",
    "        print(i)"
   ]
  },
  {
   "cell_type": "markdown",
   "metadata": {},
   "source": [
    "Q6. Write a Python Program to Find the Sum of Natural Numbers?"
   ]
  },
  {
   "cell_type": "code",
   "execution_count": 2,
   "metadata": {},
   "outputs": [
    {
     "name": "stdout",
     "output_type": "stream",
     "text": [
      "Enter the number : 16\n",
      "Sum of Natural number :  136\n"
     ]
    }
   ],
   "source": [
    "n = int(input(\"Enter the number : \"))\n",
    "s = n*(n+1)/2\n",
    "print(\"Sum of Natural number : \",int(s))"
   ]
  },
  {
   "cell_type": "code",
   "execution_count": null,
   "metadata": {},
   "outputs": [],
   "source": []
  }
 ],
 "metadata": {
  "kernelspec": {
   "display_name": "Python 3",
   "language": "python",
   "name": "python3"
  },
  "language_info": {
   "codemirror_mode": {
    "name": "ipython",
    "version": 3
   },
   "file_extension": ".py",
   "mimetype": "text/x-python",
   "name": "python",
   "nbconvert_exporter": "python",
   "pygments_lexer": "ipython3",
   "version": "3.8.2"
  }
 },
 "nbformat": 4,
 "nbformat_minor": 5
}
