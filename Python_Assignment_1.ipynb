{
 "cells": [
  {
   "cell_type": "markdown",
   "metadata": {},
   "source": [
    "Q1. In the below elements which of them are values or an expression? eg:- values can be\n",
    "integer or string and expressions will be mathematical operators."
   ]
  },
  {
   "cell_type": "markdown",
   "metadata": {},
   "source": [
    "a. * : Expression <br>\n",
    "b. 'hello' : Values <br>\n",
    "c. -87.8 : Values <br>\n",
    "d. - : Expression <br>\n",
    "e. / : Expression <br>\n",
    "f. + : Expression <br>\n",
    "g. 6 : Values"
   ]
  },
  {
   "cell_type": "markdown",
   "metadata": {},
   "source": [
    "Q2. What is the difference between string and variable?"
   ]
  },
  {
   "cell_type": "markdown",
   "metadata": {},
   "source": [
    "- String is a combination of characters.<br>\n",
    "- Varaible is container which contains different kind of data, eg:- Integer, String, Boolean etc."
   ]
  },
  {
   "cell_type": "markdown",
   "metadata": {},
   "source": [
    "Q3. Describe three different data types."
   ]
  },
  {
   "cell_type": "markdown",
   "metadata": {},
   "source": [
    " - Numeric - It can contain only numeric values like integer, float, complex<br>\n",
    " - Text - It can contain text values. ex- string<br>\n",
    " - Boolean - It can contain boolean values. ex- bool"
   ]
  },
  {
   "cell_type": "markdown",
   "metadata": {},
   "source": [
    "Q4. What is an expression made up of? What do all expressions do?"
   ]
  },
  {
   "cell_type": "markdown",
   "metadata": {},
   "source": [
    "- An expression is made up with operator and operands. <br>\n",
    "  Expressions is used to produce result between operands."
   ]
  },
  {
   "cell_type": "markdown",
   "metadata": {},
   "source": [
    "Q5. This assignment statements, like spam = 10. What is the difference between an\n",
    "expression and a statement?"
   ]
  },
  {
   "cell_type": "markdown",
   "metadata": {},
   "source": [
    "- An expression is combination of operands and operators which produce some result.<br>\n",
    "  A statement is combination of commands that tells the machine to perform certain task."
   ]
  },
  {
   "cell_type": "markdown",
   "metadata": {},
   "source": [
    "Q6. After running the following code, what does the variable bacon contain?\n",
    "bacon = 22\n",
    "bacon + 1"
   ]
  },
  {
   "cell_type": "markdown",
   "metadata": {},
   "source": [
    "- bacon will contain 22"
   ]
  },
  {
   "cell_type": "markdown",
   "metadata": {},
   "source": [
    "Q7.What should the values of the following two terms be?<br>\n",
    "'spam' + 'spamspam'<br>\n",
    "'spam' * 3"
   ]
  },
  {
   "cell_type": "markdown",
   "metadata": {},
   "source": [
    "- 'spam'+'spamspam' = 'spamspamspam'<br>\n",
    "  'spam' * 3 = 'spamspamspam'"
   ]
  },
  {
   "cell_type": "markdown",
   "metadata": {},
   "source": [
    "Q8. Why is eggs a valid variable name while 100 is invalid?"
   ]
  },
  {
   "cell_type": "markdown",
   "metadata": {},
   "source": [
    "- According to python naming convention for variable we can't use any number or special character(except '_'). That's why eggs is valid variable name while 100 is invalid"
   ]
  },
  {
   "cell_type": "markdown",
   "metadata": {},
   "source": [
    "Q9. What three functions can be used to get the integer, floating-point number, or string\n",
    "version of a value?"
   ]
  },
  {
   "cell_type": "markdown",
   "metadata": {},
   "source": [
    "- int() - we can use this function to get integer value.<br>\n",
    "  float() - we can use this function to get floating-point value.<br>\n",
    "  str() - we can use this to get string version of a value.<br><br>\n",
    "  Example - "
   ]
  },
  {
   "cell_type": "code",
   "execution_count": 13,
   "metadata": {},
   "outputs": [
    {
     "name": "stdout",
     "output_type": "stream",
     "text": [
      "99.9\n",
      "99.9\n",
      "99\n"
     ]
    }
   ],
   "source": [
    "x = 99.90\n",
    "print(str(x))\n",
    "print(float(x))\n",
    "print(int(x))"
   ]
  },
  {
   "cell_type": "markdown",
   "metadata": {},
   "source": [
    "Q10. Why does this expression cause an error? How can you fix it?<br>\n",
    "'I have eaten ' + 99 + ' burritos.'"
   ]
  },
  {
   "cell_type": "markdown",
   "metadata": {},
   "source": [
    "- This expression is showing error because we can't concatenate string with number type data in python. We can fix it by converting the number into string.<br>\n",
    "Example - "
   ]
  },
  {
   "cell_type": "code",
   "execution_count": 16,
   "metadata": {},
   "outputs": [
    {
     "name": "stdout",
     "output_type": "stream",
     "text": [
      "I have eaten 99 burritos.\n"
     ]
    }
   ],
   "source": [
    "print('I have eaten ' + str(99) + ' burritos.')"
   ]
  }
 ],
 "metadata": {
  "kernelspec": {
   "display_name": "Python 3",
   "language": "python",
   "name": "python3"
  },
  "language_info": {
   "codemirror_mode": {
    "name": "ipython",
    "version": 3
   },
   "file_extension": ".py",
   "mimetype": "text/x-python",
   "name": "python",
   "nbconvert_exporter": "python",
   "pygments_lexer": "ipython3",
   "version": "3.8.2"
  }
 },
 "nbformat": 4,
 "nbformat_minor": 4
}
